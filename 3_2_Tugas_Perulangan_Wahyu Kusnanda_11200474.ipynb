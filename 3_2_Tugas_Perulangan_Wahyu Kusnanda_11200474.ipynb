{
  "nbformat": 4,
  "nbformat_minor": 0,
  "metadata": {
    "colab": {
      "name": "3_2_Tugas_Perulangan.ipynb",
      "provenance": [],
      "collapsed_sections": []
    },
    "kernelspec": {
      "name": "python3",
      "display_name": "Python 3"
    }
  },
  "cells": [
    {
      "cell_type": "code",
      "metadata": {
        "id": "fkV8YRAQlm-C"
      },
      "source": [
        ""
      ],
      "execution_count": null,
      "outputs": []
    },
    {
      "cell_type": "markdown",
      "metadata": {
        "id": "lnkJ-zBHl3jp"
      },
      "source": [
        "## Access Element\n",
        "Keunikan lain dari looping dengan python adalah selain bahasa yang mudah dimengerti dalam looping, kita juga bisa mengakses elemen yang terdapat pada sebuah list. Berikut ini contohnya :\n",
        "``` javascript\n",
        "#Tugas 3.2.1\n",
        "count=[1,2,3,4,5] #elemen list\n",
        "\n",
        "for number in count: #looping untuk menampilkan semua elemen pada count\n",
        "    print(\"Ini adalah element count : \", number) #menampilkan elemen list pada count\n",
        "```\n",
        "Implekementasikan kode diatas, ketikan pada code cell di bawah ini, berikan penjelasan terkait kode diatas"
      ]
    },
    {
      "cell_type": "code",
      "metadata": {
        "id": "xYjQqqNLm-dB"
      },
      "source": [
        "# Jawaban Tugas 3.2.1"
      ],
      "execution_count": null,
      "outputs": []
    },
    {
      "cell_type": "markdown",
      "metadata": {
        "id": "figDWKAcnZRA"
      },
      "source": [
        "## Tugas Praktek 3.2.2\n",
        "1. Buatlah sebuah program yang bisa mengeluarkan angka 1 sampai 10.\n",
        "1. Buatlah sebuah program yang bisa mengeluarkan angka -20 sampai -50.\n",
        "3. Tampilan akan menunjukan \"Angka ganjil 1\" untuk angka ganjil dan \"Angka genap 2\" untuk angka genap. (Menggunakan looping for)\n",
        "\n",
        "**Note:** Kode dasar sudah disertakan, Anda cukup mengganti tanda # dengan nilai-nilai yang sesuai."
      ]
    },
    {
      "cell_type": "code",
      "metadata": {
        "id": "MElhruOTntzZ",
        "outputId": "a69a4e58-c8ad-471b-b720-f56776ead6af",
        "colab": {
          "base_uri": "https://localhost:8080/"
        }
      },
      "source": [
        "#Jawaban Tugas 3.2.1.1\n",
        "count=[1,2,3,4,5,7,8,9,10]\n",
        "\n",
        "for number in count: \n",
        "     print(\"Ini adalah Angka: \", number)"
      ],
      "execution_count": 1,
      "outputs": [
        {
          "output_type": "stream",
          "name": "stdout",
          "text": [
            "Ini adalah Angka:  1\n",
            "Ini adalah Angka:  2\n",
            "Ini adalah Angka:  3\n",
            "Ini adalah Angka:  4\n",
            "Ini adalah Angka:  5\n",
            "Ini adalah Angka:  7\n",
            "Ini adalah Angka:  8\n",
            "Ini adalah Angka:  9\n",
            "Ini adalah Angka:  10\n"
          ]
        }
      ]
    },
    {
      "cell_type": "code",
      "metadata": {
        "id": "NFtMjrQznuF2",
        "outputId": "94a4d1c5-e49a-49e6-9d0c-201a5b2084b4",
        "colab": {
          "base_uri": "https://localhost:8080/"
        }
      },
      "source": [
        "#Jawaban Tugas 3.2.1.2\n",
        "i = -50\n",
        "while i <= -20:\n",
        "  print(i)\n",
        "  i += 1"
      ],
      "execution_count": 2,
      "outputs": [
        {
          "output_type": "stream",
          "name": "stdout",
          "text": [
            "-50\n",
            "-49\n",
            "-48\n",
            "-47\n",
            "-46\n",
            "-45\n",
            "-44\n",
            "-43\n",
            "-42\n",
            "-41\n",
            "-40\n",
            "-39\n",
            "-38\n",
            "-37\n",
            "-36\n",
            "-35\n",
            "-34\n",
            "-33\n",
            "-32\n",
            "-31\n",
            "-30\n",
            "-29\n",
            "-28\n",
            "-27\n",
            "-26\n",
            "-25\n",
            "-24\n",
            "-23\n",
            "-22\n",
            "-21\n",
            "-20\n"
          ]
        }
      ]
    },
    {
      "cell_type": "code",
      "metadata": {
        "id": "xpGigMPBpBy7",
        "outputId": "50643513-addf-4a78-9744-a571a1ecca44",
        "colab": {
          "base_uri": "https://localhost:8080/"
        }
      },
      "source": [
        "#Jawaban Tugas 3.2.1.3\n",
        "for i in range (1,11):\n",
        "   if (i%2==0):\n",
        "        print (\"angka Genap\",i)\n",
        "   else:\n",
        "        print(\"angka Ganjil\",i)"
      ],
      "execution_count": 3,
      "outputs": [
        {
          "output_type": "stream",
          "name": "stdout",
          "text": [
            "angka Ganjil 1\n",
            "angka Genap 2\n",
            "angka Ganjil 3\n",
            "angka Genap 4\n",
            "angka Ganjil 5\n",
            "angka Genap 6\n",
            "angka Ganjil 7\n",
            "angka Genap 8\n",
            "angka Ganjil 9\n",
            "angka Genap 10\n"
          ]
        }
      ]
    }
  ]
}